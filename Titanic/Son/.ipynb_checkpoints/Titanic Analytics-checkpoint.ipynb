{
 "cells": [
  {
   "cell_type": "markdown",
   "id": "dd139da0",
   "metadata": {},
   "source": [
    "# Titanic\n",
    "#### from kaggle"
   ]
  },
  {
   "cell_type": "markdown",
   "id": "0c8d4dc4",
   "metadata": {},
   "source": [
    "### 1. 캐글 코드 필사 "
   ]
  },
  {
   "cell_type": "markdown",
   "id": "7e32adad",
   "metadata": {},
   "source": [
    "제목 : Titanic - Advanced Feature Engineering Tutorial / 저자 : GUNES EVITAN\n",
    "https://www.kaggle.com/code/gunesevitan/titanic-advanced-feature-engineering-tutorial"
   ]
  },
  {
   "cell_type": "markdown",
   "id": "006ff50a",
   "metadata": {},
   "source": [
    "#### 0. Introduction"
   ]
  },
  {
   "cell_type": "code",
   "execution_count": 1,
   "id": "fcb309e4",
   "metadata": {},
   "outputs": [],
   "source": [
    "import numpy as np\n",
    "import pandas as pd\n",
    "import matplotlib.pyplot as plt\n",
    "import seaborn as sns\n",
    "sns.set(style=\"darkgrid\")\n",
    "\n",
    "from sklearn.ensemble import RandomForestClassifier\n",
    "from sklearn.preprocessing import OneHotEncoder, LabelEncoder, StandardScaler\n",
    "from sklearn.metrics import roc_curve,auc\n",
    "from sklearn.model_selection import StratifiedKFold\n",
    "\n",
    "import string\n",
    "import warnings\n",
    "warnings.filterwarnings('ignore')\n",
    "\n",
    "SEED = 42"
   ]
  },
  {
   "cell_type": "code",
   "execution_count": 2,
   "id": "6ec7fec4",
   "metadata": {},
   "outputs": [
    {
     "name": "stdout",
     "output_type": "stream",
     "text": [
      "Train 데이터 수 = 891\n",
      "Test 데이터 수 = 418\n",
      "Train Shape : (891, 12)\n",
      "Test Shape : (418, 11)\n",
      "Train columns : ['PassengerId', 'Survived', 'Pclass', 'Name', 'Sex', 'Age', 'SibSp', 'Parch', 'Ticket', 'Fare', 'Cabin', 'Embarked']\n",
      "Test columns : ['PassengerId', 'Pclass', 'Name', 'Sex', 'Age', 'SibSp', 'Parch', 'Ticket', 'Fare', 'Cabin', 'Embarked']\n"
     ]
    }
   ],
   "source": [
    "def concat_df(train_data,test_data):\n",
    "    return pd.concat([train_data,test_data],sort=True).reset_index(drop=True)\n",
    "\n",
    "def divide_df(all_data):\n",
    "    return all_data.loc[:890], all_data.loc[891:].drop(['Survived'],axis=1) # 트레인 데이터가 891개\n",
    "\n",
    "df_train = pd.read_csv('../Origin Data/train.csv')\n",
    "df_test = pd.read_csv('../Origin Data/test.csv')\n",
    "df_all = concat_df(df_train,df_test)\n",
    "\n",
    "df_train.name = 'Training Set'\n",
    "df_test.name = 'Test Set'\n",
    "df_all.name = 'All set'\n",
    "\n",
    "dfs = [df_train,df_test]\n",
    "\n",
    "print('Train 데이터 수 = {}'.format(df_train.shape[0]))\n",
    "print('Test 데이터 수 = {}'.format(df_test.shape[0]))\n",
    "print('Train Shape : {}'.format(df_train.shape))\n",
    "print('Test Shape : {}'.format(df_test.shape))\n",
    "print('Train columns : {}'.format(list(df_train.columns)))\n",
    "print('Test columns : {}'.format(list(df_test.columns)))"
   ]
  },
  {
   "cell_type": "markdown",
   "id": "c62e51e6",
   "metadata": {},
   "source": [
    "#### 1. EDA (Exploratory Data Analysis)"
   ]
  },
  {
   "cell_type": "markdown",
   "id": "c4af76a1",
   "metadata": {},
   "source": [
    "##### 1.1 Overview"
   ]
  },
  {
   "cell_type": "markdown",
   "id": "737a3d5d",
   "metadata": {},
   "source": [
    "- PassengerId is the unique id of the row and it doesn't have any effect on target\n",
    "- Survived is the target variable we are trying to predict (0 or 1):\n",
    "    - 1 = Survived\n",
    "    - 0 = Not Survived\n",
    "- Pclass (Passenger Class) is the socio-economic status of the passenger and it is a categorical ordinal feature which has 3 unique values (1, 2 or 3):\n",
    "    - 1 = Upper Class\n",
    "    - 2 = Middle Class\n",
    "    - 3 = Lower Class\n",
    "- Name, Sex and Age are self-explanatory\n",
    "- SibSp is the total number of the passengers' siblings and spouse (배우자/형제자매)\n",
    "- Parch is the total number of the passengers' parents and children\n",
    "- Ticket is the ticket number of the passenger\n",
    "- Fare is the passenger fare\n",
    "- Cabin is the cabin number of the passenger (선실 번호)\n",
    "- Embarked is port of embarkation and it is a categorical feature which has 3 unique values (C, Q or S): (승선했던 항구)\n",
    "    - C = Cherbourg\n",
    "    - Q = Queenstown\n",
    "    - S = Southampton"
   ]
  },
  {
   "cell_type": "code",
   "execution_count": 3,
   "id": "9186d4ec",
   "metadata": {
    "scrolled": true
   },
   "outputs": [
    {
     "name": "stdout",
     "output_type": "stream",
     "text": [
      "<class 'pandas.core.frame.DataFrame'>\n",
      "RangeIndex: 891 entries, 0 to 890\n",
      "Data columns (total 12 columns):\n",
      " #   Column       Non-Null Count  Dtype  \n",
      "---  ------       --------------  -----  \n",
      " 0   PassengerId  891 non-null    int64  \n",
      " 1   Survived     891 non-null    int64  \n",
      " 2   Pclass       891 non-null    int64  \n",
      " 3   Name         891 non-null    object \n",
      " 4   Sex          891 non-null    object \n",
      " 5   Age          714 non-null    float64\n",
      " 6   SibSp        891 non-null    int64  \n",
      " 7   Parch        891 non-null    int64  \n",
      " 8   Ticket       891 non-null    object \n",
      " 9   Fare         891 non-null    float64\n",
      " 10  Cabin        204 non-null    object \n",
      " 11  Embarked     889 non-null    object \n",
      "dtypes: float64(2), int64(5), object(5)\n",
      "memory usage: 83.7+ KB\n",
      "None\n",
      "         Survived         Age       SibSp       Parch        Fare\n",
      "count  891.000000  714.000000  891.000000  891.000000  891.000000\n",
      "mean     0.383838   29.699118    0.523008    0.381594   32.204208\n",
      "std      0.486592   14.526497    1.102743    0.806057   49.693429\n",
      "min      0.000000    0.420000    0.000000    0.000000    0.000000\n",
      "25%      0.000000   20.125000    0.000000    0.000000    7.910400\n",
      "50%      0.000000   28.000000    0.000000    0.000000   14.454200\n",
      "75%      1.000000   38.000000    1.000000    0.000000   31.000000\n",
      "max      1.000000   80.000000    8.000000    6.000000  512.329200\n"
     ]
    },
    {
     "data": {
      "text/html": [
       "<div>\n",
       "<style scoped>\n",
       "    .dataframe tbody tr th:only-of-type {\n",
       "        vertical-align: middle;\n",
       "    }\n",
       "\n",
       "    .dataframe tbody tr th {\n",
       "        vertical-align: top;\n",
       "    }\n",
       "\n",
       "    .dataframe thead th {\n",
       "        text-align: right;\n",
       "    }\n",
       "</style>\n",
       "<table border=\"1\" class=\"dataframe\">\n",
       "  <thead>\n",
       "    <tr style=\"text-align: right;\">\n",
       "      <th></th>\n",
       "      <th>PassengerId</th>\n",
       "      <th>Survived</th>\n",
       "      <th>Pclass</th>\n",
       "      <th>Name</th>\n",
       "      <th>Sex</th>\n",
       "      <th>Age</th>\n",
       "      <th>SibSp</th>\n",
       "      <th>Parch</th>\n",
       "      <th>Ticket</th>\n",
       "      <th>Fare</th>\n",
       "      <th>Cabin</th>\n",
       "      <th>Embarked</th>\n",
       "    </tr>\n",
       "  </thead>\n",
       "  <tbody>\n",
       "    <tr>\n",
       "      <th>81</th>\n",
       "      <td>82</td>\n",
       "      <td>1</td>\n",
       "      <td>3</td>\n",
       "      <td>Sheerlinck, Mr. Jan Baptist</td>\n",
       "      <td>male</td>\n",
       "      <td>29.0</td>\n",
       "      <td>0</td>\n",
       "      <td>0</td>\n",
       "      <td>345779</td>\n",
       "      <td>9.5000</td>\n",
       "      <td>NaN</td>\n",
       "      <td>S</td>\n",
       "    </tr>\n",
       "    <tr>\n",
       "      <th>785</th>\n",
       "      <td>786</td>\n",
       "      <td>0</td>\n",
       "      <td>3</td>\n",
       "      <td>Harmer, Mr. Abraham (David Lishin)</td>\n",
       "      <td>male</td>\n",
       "      <td>25.0</td>\n",
       "      <td>0</td>\n",
       "      <td>0</td>\n",
       "      <td>374887</td>\n",
       "      <td>7.2500</td>\n",
       "      <td>NaN</td>\n",
       "      <td>S</td>\n",
       "    </tr>\n",
       "    <tr>\n",
       "      <th>411</th>\n",
       "      <td>412</td>\n",
       "      <td>0</td>\n",
       "      <td>3</td>\n",
       "      <td>Hart, Mr. Henry</td>\n",
       "      <td>male</td>\n",
       "      <td>NaN</td>\n",
       "      <td>0</td>\n",
       "      <td>0</td>\n",
       "      <td>394140</td>\n",
       "      <td>6.8583</td>\n",
       "      <td>NaN</td>\n",
       "      <td>Q</td>\n",
       "    </tr>\n",
       "  </tbody>\n",
       "</table>\n",
       "</div>"
      ],
      "text/plain": [
       "     PassengerId  Survived  Pclass                                Name   Sex  \\\n",
       "81            82         1       3         Sheerlinck, Mr. Jan Baptist  male   \n",
       "785          786         0       3  Harmer, Mr. Abraham (David Lishin)  male   \n",
       "411          412         0       3                     Hart, Mr. Henry  male   \n",
       "\n",
       "      Age  SibSp  Parch  Ticket    Fare Cabin Embarked  \n",
       "81   29.0      0      0  345779  9.5000   NaN        S  \n",
       "785  25.0      0      0  374887  7.2500   NaN        S  \n",
       "411   NaN      0      0  394140  6.8583   NaN        Q  "
      ]
     },
     "execution_count": 3,
     "metadata": {},
     "output_type": "execute_result"
    }
   ],
   "source": [
    "print(df_train.info())\n",
    "print(df_train[['Survived','Age','SibSp','Parch','Fare']].describe())\n",
    "df_train.sample(3)"
   ]
  },
  {
   "cell_type": "code",
   "execution_count": 23,
   "id": "6ffea5cb",
   "metadata": {
    "scrolled": true
   },
   "outputs": [
    {
     "name": "stdout",
     "output_type": "stream",
     "text": [
      "<class 'pandas.core.frame.DataFrame'>\n",
      "RangeIndex: 418 entries, 0 to 417\n",
      "Data columns (total 11 columns):\n",
      " #   Column       Non-Null Count  Dtype  \n",
      "---  ------       --------------  -----  \n",
      " 0   PassengerId  418 non-null    int64  \n",
      " 1   Pclass       418 non-null    int64  \n",
      " 2   Name         418 non-null    object \n",
      " 3   Sex          418 non-null    object \n",
      " 4   Age          332 non-null    float64\n",
      " 5   SibSp        418 non-null    int64  \n",
      " 6   Parch        418 non-null    int64  \n",
      " 7   Ticket       418 non-null    object \n",
      " 8   Fare         417 non-null    float64\n",
      " 9   Cabin        91 non-null     object \n",
      " 10  Embarked     418 non-null    object \n",
      "dtypes: float64(2), int64(4), object(5)\n",
      "memory usage: 36.0+ KB\n",
      "None\n",
      "              Age       SibSp       Parch        Fare\n",
      "count  332.000000  418.000000  418.000000  417.000000\n",
      "mean    30.272590    0.447368    0.392344   35.627188\n",
      "std     14.181209    0.896760    0.981429   55.907576\n",
      "min      0.170000    0.000000    0.000000    0.000000\n",
      "25%     21.000000    0.000000    0.000000    7.895800\n",
      "50%     27.000000    0.000000    0.000000   14.454200\n",
      "75%     39.000000    1.000000    0.000000   31.500000\n",
      "max     76.000000    8.000000    9.000000  512.329200\n"
     ]
    },
    {
     "data": {
      "text/html": [
       "<div>\n",
       "<style scoped>\n",
       "    .dataframe tbody tr th:only-of-type {\n",
       "        vertical-align: middle;\n",
       "    }\n",
       "\n",
       "    .dataframe tbody tr th {\n",
       "        vertical-align: top;\n",
       "    }\n",
       "\n",
       "    .dataframe thead th {\n",
       "        text-align: right;\n",
       "    }\n",
       "</style>\n",
       "<table border=\"1\" class=\"dataframe\">\n",
       "  <thead>\n",
       "    <tr style=\"text-align: right;\">\n",
       "      <th></th>\n",
       "      <th>PassengerId</th>\n",
       "      <th>Pclass</th>\n",
       "      <th>Name</th>\n",
       "      <th>Sex</th>\n",
       "      <th>Age</th>\n",
       "      <th>SibSp</th>\n",
       "      <th>Parch</th>\n",
       "      <th>Ticket</th>\n",
       "      <th>Fare</th>\n",
       "      <th>Cabin</th>\n",
       "      <th>Embarked</th>\n",
       "    </tr>\n",
       "  </thead>\n",
       "  <tbody>\n",
       "    <tr>\n",
       "      <th>62</th>\n",
       "      <td>954</td>\n",
       "      <td>3</td>\n",
       "      <td>Bjorklund, Mr. Ernst Herbert</td>\n",
       "      <td>male</td>\n",
       "      <td>18.0</td>\n",
       "      <td>0</td>\n",
       "      <td>0</td>\n",
       "      <td>347090</td>\n",
       "      <td>7.75</td>\n",
       "      <td>NaN</td>\n",
       "      <td>S</td>\n",
       "    </tr>\n",
       "    <tr>\n",
       "      <th>82</th>\n",
       "      <td>974</td>\n",
       "      <td>1</td>\n",
       "      <td>Case, Mr. Howard Brown</td>\n",
       "      <td>male</td>\n",
       "      <td>49.0</td>\n",
       "      <td>0</td>\n",
       "      <td>0</td>\n",
       "      <td>19924</td>\n",
       "      <td>26.00</td>\n",
       "      <td>NaN</td>\n",
       "      <td>S</td>\n",
       "    </tr>\n",
       "    <tr>\n",
       "      <th>331</th>\n",
       "      <td>1223</td>\n",
       "      <td>1</td>\n",
       "      <td>Dulles, Mr. William Crothers</td>\n",
       "      <td>male</td>\n",
       "      <td>39.0</td>\n",
       "      <td>0</td>\n",
       "      <td>0</td>\n",
       "      <td>PC 17580</td>\n",
       "      <td>29.70</td>\n",
       "      <td>A18</td>\n",
       "      <td>C</td>\n",
       "    </tr>\n",
       "  </tbody>\n",
       "</table>\n",
       "</div>"
      ],
      "text/plain": [
       "     PassengerId  Pclass                          Name   Sex   Age  SibSp  \\\n",
       "62           954       3  Bjorklund, Mr. Ernst Herbert  male  18.0      0   \n",
       "82           974       1        Case, Mr. Howard Brown  male  49.0      0   \n",
       "331         1223       1  Dulles, Mr. William Crothers  male  39.0      0   \n",
       "\n",
       "     Parch    Ticket   Fare Cabin Embarked  \n",
       "62       0    347090   7.75   NaN        S  \n",
       "82       0     19924  26.00   NaN        S  \n",
       "331      0  PC 17580  29.70   A18        C  "
      ]
     },
     "execution_count": 23,
     "metadata": {},
     "output_type": "execute_result"
    }
   ],
   "source": [
    "print(df_test.info())\n",
    "print(df_test[['Age','SibSp','Parch','Fare']].describe())\n",
    "df_test.sample(3)"
   ]
  },
  {
   "cell_type": "markdown",
   "id": "7d91a0d3",
   "metadata": {},
   "source": [
    "##### 1.2 Missing Values"
   ]
  },
  {
   "cell_type": "markdown",
   "id": "03aff480",
   "metadata": {},
   "source": [
    "Training set have missing values in Age, Cabin and Embarked columns  \n",
    "Test set have missing values in Age, Cabin and Fare columns"
   ]
  },
  {
   "cell_type": "code",
   "execution_count": 5,
   "id": "d29adc3c",
   "metadata": {
    "scrolled": true
   },
   "outputs": [
    {
     "name": "stdout",
     "output_type": "stream",
     "text": [
      "Training Set\n",
      "data count : 891\n",
      "PassengerId column missing values : 0\n",
      "Survived column missing values : 0\n",
      "Pclass column missing values : 0\n",
      "Name column missing values : 0\n",
      "Sex column missing values : 0\n",
      "Age column missing values : 177\n",
      "SibSp column missing values : 0\n",
      "Parch column missing values : 0\n",
      "Ticket column missing values : 0\n",
      "Fare column missing values : 0\n",
      "Cabin column missing values : 687\n",
      "Embarked column missing values : 2\n",
      "\n",
      "\n",
      "Test Set\n",
      "data count : 418\n",
      "PassengerId column missing values : 0\n",
      "Pclass column missing values : 0\n",
      "Name column missing values : 0\n",
      "Sex column missing values : 0\n",
      "Age column missing values : 86\n",
      "SibSp column missing values : 0\n",
      "Parch column missing values : 0\n",
      "Ticket column missing values : 0\n",
      "Fare column missing values : 1\n",
      "Cabin column missing values : 327\n",
      "Embarked column missing values : 0\n",
      "\n",
      "\n"
     ]
    }
   ],
   "source": [
    "def display_missing(df):\n",
    "    for col in df.columns.tolist():\n",
    "        print('{} column missing values : {}'.format(col,df[col].isnull().sum()))\n",
    "    print('\\n')\n",
    "\n",
    "for df in dfs:\n",
    "    print('{}'.format(df.name))\n",
    "    print('data count : {}'.format(df.shape[0]))\n",
    "    display_missing(df)"
   ]
  },
  {
   "cell_type": "markdown",
   "id": "0816fd90",
   "metadata": {},
   "source": [
    "1.2.1 Age"
   ]
  },
  {
   "cell_type": "markdown",
   "id": "35a8fbbb",
   "metadata": {},
   "source": [
    "단순히 Median 값으로 나이 결측값을 채우는것보단, 나이와 높은 연관성을 가진 Pclass로 범주를 구분하여 Median 값으로 채우는것이 더 좋은 선택으로 보이므로 이를 구현해보겠습니다."
   ]
  },
  {
   "cell_type": "code",
   "execution_count": 6,
   "id": "90a7da38",
   "metadata": {},
   "outputs": [
    {
     "data": {
      "text/html": [
       "<div>\n",
       "<style scoped>\n",
       "    .dataframe tbody tr th:only-of-type {\n",
       "        vertical-align: middle;\n",
       "    }\n",
       "\n",
       "    .dataframe tbody tr th {\n",
       "        vertical-align: top;\n",
       "    }\n",
       "\n",
       "    .dataframe thead th {\n",
       "        text-align: right;\n",
       "    }\n",
       "</style>\n",
       "<table border=\"1\" class=\"dataframe\">\n",
       "  <thead>\n",
       "    <tr style=\"text-align: right;\">\n",
       "      <th></th>\n",
       "      <th>Feature 1</th>\n",
       "      <th>Feature 2</th>\n",
       "      <th>Correlation Coefficient</th>\n",
       "    </tr>\n",
       "  </thead>\n",
       "  <tbody>\n",
       "    <tr>\n",
       "      <th>0</th>\n",
       "      <td>Age</td>\n",
       "      <td>Age</td>\n",
       "      <td>1.000000</td>\n",
       "    </tr>\n",
       "    <tr>\n",
       "      <th>9</th>\n",
       "      <td>Age</td>\n",
       "      <td>Pclass</td>\n",
       "      <td>0.408106</td>\n",
       "    </tr>\n",
       "    <tr>\n",
       "      <th>18</th>\n",
       "      <td>Age</td>\n",
       "      <td>SibSp</td>\n",
       "      <td>0.243699</td>\n",
       "    </tr>\n",
       "    <tr>\n",
       "      <th>21</th>\n",
       "      <td>Age</td>\n",
       "      <td>Fare</td>\n",
       "      <td>0.178740</td>\n",
       "    </tr>\n",
       "    <tr>\n",
       "      <th>26</th>\n",
       "      <td>Age</td>\n",
       "      <td>Parch</td>\n",
       "      <td>0.150917</td>\n",
       "    </tr>\n",
       "    <tr>\n",
       "      <th>30</th>\n",
       "      <td>Age</td>\n",
       "      <td>Survived</td>\n",
       "      <td>0.077221</td>\n",
       "    </tr>\n",
       "    <tr>\n",
       "      <th>41</th>\n",
       "      <td>Age</td>\n",
       "      <td>PassengerId</td>\n",
       "      <td>0.028814</td>\n",
       "    </tr>\n",
       "  </tbody>\n",
       "</table>\n",
       "</div>"
      ],
      "text/plain": [
       "   Feature 1    Feature 2  Correlation Coefficient\n",
       "0        Age          Age                 1.000000\n",
       "9        Age       Pclass                 0.408106\n",
       "18       Age        SibSp                 0.243699\n",
       "21       Age         Fare                 0.178740\n",
       "26       Age        Parch                 0.150917\n",
       "30       Age     Survived                 0.077221\n",
       "41       Age  PassengerId                 0.028814"
      ]
     },
     "execution_count": 6,
     "metadata": {},
     "output_type": "execute_result"
    }
   ],
   "source": [
    "df_all_corr = df_all.corr().abs().unstack().sort_values(kind=\"quicksort\",ascending = False).reset_index()\n",
    "df_all_corr.rename(columns={\"level_0\":\"Feature 1\",\"level_1\":\"Feature 2\",0:\"Correlation Coefficient\"},inplace=True)\n",
    "df_all_corr[df_all_corr['Feature 1']=='Age']"
   ]
  },
  {
   "cell_type": "markdown",
   "id": "79f7698c",
   "metadata": {},
   "source": [
    "여기서 추가로 아래와 같이 성별도 Pclass와 함께 age에 영향을 끼치므로 Sex 도 함께 활용하여 Medain 값을 구해보겠습니다."
   ]
  },
  {
   "cell_type": "markdown",
   "id": "f5fb6770",
   "metadata": {},
   "source": [
    "###### My Opinion :이런게 중요한 포인트! \n",
    "( na 값 채울때 연관성 보고 채우기 [ 이는 결측값 채울때만 쓰이는게 아니라 EDA 를 통해 인사이트를 얻어 어떤걸 처리할때 필요한 항목! ] )"
   ]
  },
  {
   "cell_type": "code",
   "execution_count": 8,
   "id": "0799a7e1",
   "metadata": {},
   "outputs": [
    {
     "data": {
      "text/plain": [
       "Sex     Pclass\n",
       "female  1         36.0\n",
       "        2         28.0\n",
       "        3         22.0\n",
       "male    1         42.0\n",
       "        2         29.5\n",
       "        3         25.0\n",
       "Name: Age, dtype: float64"
      ]
     },
     "execution_count": 8,
     "metadata": {},
     "output_type": "execute_result"
    }
   ],
   "source": [
    "age_by_pclass_sex = df_all.groupby(['Sex','Pclass']).median()['Age']\n",
    "age_by_pclass_sex"
   ]
  },
  {
   "cell_type": "code",
   "execution_count": 9,
   "id": "1786521b",
   "metadata": {},
   "outputs": [
    {
     "data": {
      "text/plain": [
       "0       22.0\n",
       "1       38.0\n",
       "2       26.0\n",
       "3       35.0\n",
       "4       35.0\n",
       "        ... \n",
       "1304    25.0\n",
       "1305    39.0\n",
       "1306    38.5\n",
       "1307    25.0\n",
       "1308    25.0\n",
       "Name: Age, Length: 1309, dtype: float64"
      ]
     },
     "execution_count": 9,
     "metadata": {},
     "output_type": "execute_result"
    }
   ],
   "source": [
    "df_all.groupby(['Sex','Pclass'])['Age'].apply(lambda x : x.fillna(x.median()))"
   ]
  },
  {
   "cell_type": "markdown",
   "id": "57e3b98a",
   "metadata": {},
   "source": [
    "## Q. 이거 이해가 안됨!! \n",
    "groupby 를 통해서 grouped 된 상태인데 어떻게 이렇게 나올 수 있지?"
   ]
  },
  {
   "cell_type": "code",
   "execution_count": 10,
   "id": "4a3efa94",
   "metadata": {},
   "outputs": [],
   "source": [
    "df_all['Age']= df_all.groupby(['Sex','Pclass'])['Age'].apply(lambda x : x.fillna(x.median()))"
   ]
  },
  {
   "cell_type": "markdown",
   "id": "5092e6ff",
   "metadata": {},
   "source": [
    "1.2.2 Embarked"
   ]
  },
  {
   "cell_type": "markdown",
   "id": "5f0ff0b6",
   "metadata": {},
   "source": [
    "승선한 항구의 정보가 결측값인건 두개 뿐이다. 아래 두개의 정보를 보면 둘다 여자고 1 Pclass 이며, 같은 티켓번호를 가지고있다.  \n",
    "그러므로 서로 아는 사이이며 같은 항구에서 탔다고 유추해볼 수 있다.\n"
   ]
  },
  {
   "cell_type": "markdown",
   "id": "ff946b89",
   "metadata": {},
   "source": [
    "###### My Opinion : 이렇게 생각보다 가진 정보로 유추해볼수 있는 정보는 꽤나 많다. 이런 유추(인사이트)를 잘 얻는것이 중요함!"
   ]
  },
  {
   "cell_type": "code",
   "execution_count": 11,
   "id": "34436ba9",
   "metadata": {},
   "outputs": [
    {
     "data": {
      "text/html": [
       "<div>\n",
       "<style scoped>\n",
       "    .dataframe tbody tr th:only-of-type {\n",
       "        vertical-align: middle;\n",
       "    }\n",
       "\n",
       "    .dataframe tbody tr th {\n",
       "        vertical-align: top;\n",
       "    }\n",
       "\n",
       "    .dataframe thead th {\n",
       "        text-align: right;\n",
       "    }\n",
       "</style>\n",
       "<table border=\"1\" class=\"dataframe\">\n",
       "  <thead>\n",
       "    <tr style=\"text-align: right;\">\n",
       "      <th></th>\n",
       "      <th>Age</th>\n",
       "      <th>Cabin</th>\n",
       "      <th>Embarked</th>\n",
       "      <th>Fare</th>\n",
       "      <th>Name</th>\n",
       "      <th>Parch</th>\n",
       "      <th>PassengerId</th>\n",
       "      <th>Pclass</th>\n",
       "      <th>Sex</th>\n",
       "      <th>SibSp</th>\n",
       "      <th>Survived</th>\n",
       "      <th>Ticket</th>\n",
       "    </tr>\n",
       "  </thead>\n",
       "  <tbody>\n",
       "    <tr>\n",
       "      <th>61</th>\n",
       "      <td>38.0</td>\n",
       "      <td>B28</td>\n",
       "      <td>NaN</td>\n",
       "      <td>80.0</td>\n",
       "      <td>Icard, Miss. Amelie</td>\n",
       "      <td>0</td>\n",
       "      <td>62</td>\n",
       "      <td>1</td>\n",
       "      <td>female</td>\n",
       "      <td>0</td>\n",
       "      <td>1.0</td>\n",
       "      <td>113572</td>\n",
       "    </tr>\n",
       "    <tr>\n",
       "      <th>829</th>\n",
       "      <td>62.0</td>\n",
       "      <td>B28</td>\n",
       "      <td>NaN</td>\n",
       "      <td>80.0</td>\n",
       "      <td>Stone, Mrs. George Nelson (Martha Evelyn)</td>\n",
       "      <td>0</td>\n",
       "      <td>830</td>\n",
       "      <td>1</td>\n",
       "      <td>female</td>\n",
       "      <td>0</td>\n",
       "      <td>1.0</td>\n",
       "      <td>113572</td>\n",
       "    </tr>\n",
       "  </tbody>\n",
       "</table>\n",
       "</div>"
      ],
      "text/plain": [
       "      Age Cabin Embarked  Fare                                       Name  \\\n",
       "61   38.0   B28      NaN  80.0                        Icard, Miss. Amelie   \n",
       "829  62.0   B28      NaN  80.0  Stone, Mrs. George Nelson (Martha Evelyn)   \n",
       "\n",
       "     Parch  PassengerId  Pclass     Sex  SibSp  Survived  Ticket  \n",
       "61       0           62       1  female      0       1.0  113572  \n",
       "829      0          830       1  female      0       1.0  113572  "
      ]
     },
     "execution_count": 11,
     "metadata": {},
     "output_type": "execute_result"
    }
   ],
   "source": [
    "df_all[df_all['Embarked'].isnull()]"
   ]
  },
  {
   "cell_type": "markdown",
   "id": "8a5a5e93",
   "metadata": {},
   "source": [
    "구글에 이름을 검색해보니 두명 다 S(Southampton) 에서 탄것이 확인된다."
   ]
  },
  {
   "cell_type": "code",
   "execution_count": 12,
   "id": "521e4d03",
   "metadata": {},
   "outputs": [],
   "source": [
    "df_all['Embarked'] = df_all['Embarked'].fillna('S')"
   ]
  },
  {
   "cell_type": "markdown",
   "id": "4f228095",
   "metadata": {},
   "source": [
    "1.2.3 Fare"
   ]
  },
  {
   "cell_type": "markdown",
   "id": "7876a4b2",
   "metadata": {},
   "source": [
    "요금 결측값은 전체 데이터에 하나뿐이다, 요금은 아무래도 가족 사이즈 (Parch and SibSp), Pclass와 연관이 있을것 같다. cor 로 봐도 어느정도 연관 있다고 볼 수 있다."
   ]
  },
  {
   "cell_type": "code",
   "execution_count": 13,
   "id": "37ec6af0",
   "metadata": {},
   "outputs": [
    {
     "data": {
      "text/html": [
       "<div>\n",
       "<style scoped>\n",
       "    .dataframe tbody tr th:only-of-type {\n",
       "        vertical-align: middle;\n",
       "    }\n",
       "\n",
       "    .dataframe tbody tr th {\n",
       "        vertical-align: top;\n",
       "    }\n",
       "\n",
       "    .dataframe thead th {\n",
       "        text-align: right;\n",
       "    }\n",
       "</style>\n",
       "<table border=\"1\" class=\"dataframe\">\n",
       "  <thead>\n",
       "    <tr style=\"text-align: right;\">\n",
       "      <th></th>\n",
       "      <th>Age</th>\n",
       "      <th>Cabin</th>\n",
       "      <th>Embarked</th>\n",
       "      <th>Fare</th>\n",
       "      <th>Name</th>\n",
       "      <th>Parch</th>\n",
       "      <th>PassengerId</th>\n",
       "      <th>Pclass</th>\n",
       "      <th>Sex</th>\n",
       "      <th>SibSp</th>\n",
       "      <th>Survived</th>\n",
       "      <th>Ticket</th>\n",
       "    </tr>\n",
       "  </thead>\n",
       "  <tbody>\n",
       "    <tr>\n",
       "      <th>1043</th>\n",
       "      <td>60.5</td>\n",
       "      <td>NaN</td>\n",
       "      <td>S</td>\n",
       "      <td>NaN</td>\n",
       "      <td>Storey, Mr. Thomas</td>\n",
       "      <td>0</td>\n",
       "      <td>1044</td>\n",
       "      <td>3</td>\n",
       "      <td>male</td>\n",
       "      <td>0</td>\n",
       "      <td>NaN</td>\n",
       "      <td>3701</td>\n",
       "    </tr>\n",
       "  </tbody>\n",
       "</table>\n",
       "</div>"
      ],
      "text/plain": [
       "       Age Cabin Embarked  Fare                Name  Parch  PassengerId  \\\n",
       "1043  60.5   NaN        S   NaN  Storey, Mr. Thomas      0         1044   \n",
       "\n",
       "      Pclass   Sex  SibSp  Survived Ticket  \n",
       "1043       3  male      0       NaN   3701  "
      ]
     },
     "execution_count": 13,
     "metadata": {},
     "output_type": "execute_result"
    }
   ],
   "source": [
    "df_all[df_all['Fare'].isnull()]"
   ]
  },
  {
   "cell_type": "code",
   "execution_count": 14,
   "id": "f5de495b",
   "metadata": {},
   "outputs": [
    {
     "data": {
      "text/html": [
       "<div>\n",
       "<style scoped>\n",
       "    .dataframe tbody tr th:only-of-type {\n",
       "        vertical-align: middle;\n",
       "    }\n",
       "\n",
       "    .dataframe tbody tr th {\n",
       "        vertical-align: top;\n",
       "    }\n",
       "\n",
       "    .dataframe thead th {\n",
       "        text-align: right;\n",
       "    }\n",
       "</style>\n",
       "<table border=\"1\" class=\"dataframe\">\n",
       "  <thead>\n",
       "    <tr style=\"text-align: right;\">\n",
       "      <th></th>\n",
       "      <th>level_0</th>\n",
       "      <th>level_1</th>\n",
       "      <th>0</th>\n",
       "    </tr>\n",
       "  </thead>\n",
       "  <tbody>\n",
       "    <tr>\n",
       "      <th>1</th>\n",
       "      <td>Fare</td>\n",
       "      <td>Fare</td>\n",
       "      <td>1.000000</td>\n",
       "    </tr>\n",
       "    <tr>\n",
       "      <th>8</th>\n",
       "      <td>Fare</td>\n",
       "      <td>Pclass</td>\n",
       "      <td>0.558629</td>\n",
       "    </tr>\n",
       "    <tr>\n",
       "      <th>16</th>\n",
       "      <td>Fare</td>\n",
       "      <td>Survived</td>\n",
       "      <td>0.257307</td>\n",
       "    </tr>\n",
       "    <tr>\n",
       "      <th>18</th>\n",
       "      <td>Fare</td>\n",
       "      <td>Parch</td>\n",
       "      <td>0.221539</td>\n",
       "    </tr>\n",
       "    <tr>\n",
       "      <th>22</th>\n",
       "      <td>Fare</td>\n",
       "      <td>Age</td>\n",
       "      <td>0.200039</td>\n",
       "    </tr>\n",
       "    <tr>\n",
       "      <th>23</th>\n",
       "      <td>Fare</td>\n",
       "      <td>SibSp</td>\n",
       "      <td>0.160238</td>\n",
       "    </tr>\n",
       "    <tr>\n",
       "      <th>40</th>\n",
       "      <td>Fare</td>\n",
       "      <td>PassengerId</td>\n",
       "      <td>0.031428</td>\n",
       "    </tr>\n",
       "  </tbody>\n",
       "</table>\n",
       "</div>"
      ],
      "text/plain": [
       "   level_0      level_1         0\n",
       "1     Fare         Fare  1.000000\n",
       "8     Fare       Pclass  0.558629\n",
       "16    Fare     Survived  0.257307\n",
       "18    Fare        Parch  0.221539\n",
       "22    Fare          Age  0.200039\n",
       "23    Fare        SibSp  0.160238\n",
       "40    Fare  PassengerId  0.031428"
      ]
     },
     "execution_count": 14,
     "metadata": {},
     "output_type": "execute_result"
    }
   ],
   "source": [
    "df_all_corr=df_all.corr().abs().unstack().sort_values(ascending=False).reset_index()\n",
    "df_all_corr[df_all_corr['level_0']=='Fare']"
   ]
  },
  {
   "cell_type": "code",
   "execution_count": 22,
   "id": "c528cb31",
   "metadata": {
    "scrolled": true
   },
   "outputs": [
    {
     "name": "stdout",
     "output_type": "stream",
     "text": [
      "Pclass  Parch  SibSp\n",
      "1       0      0         31.33960\n",
      "               1         75.25000\n",
      "               2         51.47920\n",
      "        1      0         63.35830\n",
      "               1         83.15830\n",
      "        2      0         83.15830\n",
      "               1        120.00000\n",
      "               2        262.37500\n",
      "               3        263.00000\n",
      "        3      1        262.37500\n",
      "        4      1        263.00000\n",
      "2       0      0         13.00000\n",
      "               1         26.00000\n",
      "               2         73.50000\n",
      "               3         21.00000\n",
      "        1      0         23.00000\n",
      "               1         26.25000\n",
      "               2         33.00000\n",
      "        2      0         26.25000\n",
      "               1         41.57920\n",
      "        3      0         39.00000\n",
      "               1         23.00000\n",
      "               2         18.75000\n",
      "3       0      0          7.85420\n",
      "               1         14.45625\n",
      "               2         19.83960\n",
      "               3         16.92500\n",
      "        1      0         12.47500\n",
      "               1         15.24580\n",
      "               2         19.25830\n",
      "               3         22.02500\n",
      "               4         34.40625\n",
      "        2      0         15.24580\n",
      "               1         22.01250\n",
      "               2         34.37500\n",
      "               3         27.90000\n",
      "               4         31.27500\n",
      "               5         46.90000\n",
      "               8         69.55000\n",
      "        3      0         19.25830\n",
      "               1         34.37500\n",
      "        4      0         23.27085\n",
      "               1         27.90000\n",
      "        5      0         34.40625\n",
      "               1         31.33125\n",
      "        6      1         46.90000\n",
      "        9      1         69.55000\n",
      "Name: Fare, dtype: float64\n"
     ]
    }
   ],
   "source": [
    "print(df_all.groupby(['Pclass','Parch','SibSp']).Fare.median())\n",
    "med_fare = df_all.groupby(['Pclass','Parch','SibSp']).Fare.median()[3][0][0]\n",
    "df_all['Fare'] = df_all['Fare'].fillna(med_fare)"
   ]
  },
  {
   "cell_type": "markdown",
   "id": "fd8218b2",
   "metadata": {},
   "source": [
    "###### My Opinion : 위 방법으로 보면 관계성을 찾기 어려울거같은데 => Parch , SibSp를 각각 봐보자"
   ]
  },
  {
   "cell_type": "code",
   "execution_count": 21,
   "id": "b8dd7f62",
   "metadata": {
    "scrolled": true
   },
   "outputs": [
    {
     "name": "stdout",
     "output_type": "stream",
     "text": [
      "Pclass\n",
      "1    60.0000\n",
      "2    15.0458\n",
      "3     8.0500\n",
      "Name: Fare, dtype: float64\n",
      "None\n",
      "Parch\n",
      "0    10.50000\n",
      "1    26.00000\n",
      "2    31.38750\n",
      "3    34.37500\n",
      "4    27.90000\n",
      "5    31.33125\n",
      "6    46.90000\n",
      "9    69.55000\n",
      "Name: Fare, dtype: float64\n",
      "None\n",
      "SibSp\n",
      "0     9.5000\n",
      "1    26.0000\n",
      "2    24.1500\n",
      "3    25.4667\n",
      "4    31.2750\n",
      "5    46.9000\n",
      "8    69.5500\n",
      "Name: Fare, dtype: float64\n",
      "None\n"
     ]
    }
   ],
   "source": [
    "print(print(df_all.groupby('Pclass').Fare.median()))\n",
    "print(print(df_all.groupby('Parch').Fare.median()))\n",
    "print(print(df_all.groupby('SibSp').Fare.median()))"
   ]
  },
  {
   "cell_type": "markdown",
   "id": "b1044176",
   "metadata": {},
   "source": [
    "###### My Opinion : 각각 봐보니 좀 더 명시적이긴하나 3 변수 기준으로 요금의 차이를 볼려면 위에 3개를 동시에 group by 보는게 좋을듯..\n",
    "###### My Opinion : 이걸 시각화해서 볼 수 있으면 더 좋겠지만 요금 결측은 하나뿐이므로 간단하게 짚고 넘어가는게 좋을듯"
   ]
  },
  {
   "cell_type": "markdown",
   "id": "48b081d2",
   "metadata": {},
   "source": [
    "1.2.4 Cabin"
   ]
  },
  {
   "cell_type": "markdown",
   "id": "ec980600",
   "metadata": {},
   "source": [
    "캐빈은 선실번호인데 많은 결측값을 가지지만 일부 선실의 경우 생존율이 더 높을 가능성이 다분하므로 버리긴 어렵습니다. 캐빈값을 첫번째 글짜는 캐빈이 위치한 데크입니다. 그 갑판은 주로 하나의 승객 등급으로 분리되었지만 일부는 여러 승객 등급에서 사용되었습니다.A, B, C 데크는 1등석 승객 전용,D와 E 덱은 모든 병과용이었습니다.그리고 F와 G 데크는 2등석과 3등석 모두를 위한 것이었습니다.  \n",
    "A에서 G로 가는 과정에서 생존의 요인이 될 수 있는 계단까지의 거리가 늘어나므로 생존가능성에 큰 부여를 할 수 있을거라 추측됩니다."
   ]
  },
  {
   "attachments": {
    "image.png": {
     "image/png": "[encoded data removed]"
    }
   },
   "cell_type": "markdown",
   "id": "4e9423c4",
   "metadata": {},
   "source": [
    "![image.png](attachment:image.png)"
   ]
  },
  {
   "cell_type": "markdown",
   "id": "56d48817",
   "metadata": {},
   "source": [
    "###### My Opinion : 보통 공모전 데이터에선 이런걸 직접 찾아봐도 안나오는 경우가 많아서 조사도 안하는 경우가 많은데 이런걸 놓치면 안된다! 데이터를 제대로 확인하는 1단계 과정이 정말 중요하다는걸  다시 배우는 기회"
   ]
  },
  {
   "cell_type": "code",
   "execution_count": 35,
   "id": "7a177b76",
   "metadata": {},
   "outputs": [
    {
     "name": "stdout",
     "output_type": "stream",
     "text": [
      "Deck     A   B   C   D      E         F     G   M            T\n",
      "Pclass   1   1   1   1  2   1  2  3   2  3  3   1    2    3  1\n",
      "Count   22  65  94  40  6  34  4  3  13  8  5  67  254  693  1\n"
     ]
    },
    {
     "data": {
      "text/html": [
       "<div>\n",
       "<style scoped>\n",
       "    .dataframe tbody tr th:only-of-type {\n",
       "        vertical-align: middle;\n",
       "    }\n",
       "\n",
       "    .dataframe tbody tr th {\n",
       "        vertical-align: top;\n",
       "    }\n",
       "\n",
       "    .dataframe thead tr th {\n",
       "        text-align: left;\n",
       "    }\n",
       "</style>\n",
       "<table border=\"1\" class=\"dataframe\">\n",
       "  <thead>\n",
       "    <tr>\n",
       "      <th>Deck</th>\n",
       "      <th>A</th>\n",
       "      <th>B</th>\n",
       "      <th>C</th>\n",
       "      <th colspan=\"2\" halign=\"left\">D</th>\n",
       "      <th colspan=\"3\" halign=\"left\">E</th>\n",
       "      <th colspan=\"2\" halign=\"left\">F</th>\n",
       "      <th>G</th>\n",
       "      <th colspan=\"3\" halign=\"left\">M</th>\n",
       "      <th>T</th>\n",
       "    </tr>\n",
       "    <tr>\n",
       "      <th>Pclass</th>\n",
       "      <th>1</th>\n",
       "      <th>1</th>\n",
       "      <th>1</th>\n",
       "      <th>1</th>\n",
       "      <th>2</th>\n",
       "      <th>1</th>\n",
       "      <th>2</th>\n",
       "      <th>3</th>\n",
       "      <th>2</th>\n",
       "      <th>3</th>\n",
       "      <th>3</th>\n",
       "      <th>1</th>\n",
       "      <th>2</th>\n",
       "      <th>3</th>\n",
       "      <th>1</th>\n",
       "    </tr>\n",
       "  </thead>\n",
       "  <tbody>\n",
       "    <tr>\n",
       "      <th>Count</th>\n",
       "      <td>22</td>\n",
       "      <td>65</td>\n",
       "      <td>94</td>\n",
       "      <td>40</td>\n",
       "      <td>6</td>\n",
       "      <td>34</td>\n",
       "      <td>4</td>\n",
       "      <td>3</td>\n",
       "      <td>13</td>\n",
       "      <td>8</td>\n",
       "      <td>5</td>\n",
       "      <td>67</td>\n",
       "      <td>254</td>\n",
       "      <td>693</td>\n",
       "      <td>1</td>\n",
       "    </tr>\n",
       "  </tbody>\n",
       "</table>\n",
       "</div>"
      ],
      "text/plain": [
       "Deck     A   B   C   D      E         F     G   M            T\n",
       "Pclass   1   1   1   1  2   1  2  3   2  3  3   1    2    3  1\n",
       "Count   22  65  94  40  6  34  4  3  13  8  5  67  254  693  1"
      ]
     },
     "execution_count": 35,
     "metadata": {},
     "output_type": "execute_result"
    }
   ],
   "source": [
    "df_all['Deck'] = df_all['Cabin'].apply(lambda s : s[0] if pd.notnull(s) else 'M') ## 결측은 전부 M\n",
    "df_all_decks = df_all.groupby(['Deck','Pclass']).count().drop(columns=['Survived', 'Sex', 'Age', 'SibSp', 'Parch', 'Fare', 'Embarked', 'Cabin', 'PassengerId', 'Ticket']).rename(columns={'Name':'Count'}).transpose()\n",
    "print(df_all_decks)\n",
    "df_all.groupby(['Deck','Pclass']).count()[['Name']].rename(columns={'Name':'Count'}).transpose()\n",
    "## 아래 것도 같은 과정 임! 굳이 drop 안써도 될듯?"
   ]
  },
  {
   "cell_type": "code",
   "execution_count": null,
   "id": "a6b323a1",
   "metadata": {},
   "outputs": [],
   "source": []
  }
 ],
 "metadata": {
  "kernelspec": {
   "display_name": "Python 3 (ipykernel)",
   "language": "python",
   "name": "python3"
  },
  "language_info": {
   "codemirror_mode": {
    "name": "ipython",
    "version": 3
   },
   "file_extension": ".py",
   "mimetype": "text/x-python",
   "name": "python",
   "nbconvert_exporter": "python",
   "pygments_lexer": "ipython3",
   "version": "3.10.4"
  }
 },
 "nbformat": 4,
 "nbformat_minor": 5
}
